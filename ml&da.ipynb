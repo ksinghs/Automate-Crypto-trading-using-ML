{
  "nbformat": 4,
  "nbformat_minor": 0,
  "metadata": {
    "colab": {
      "name": "ml&da.ipynb",
      "provenance": []
    },
    "kernelspec": {
      "name": "python3",
      "display_name": "Python 3"
    },
    "language_info": {
      "name": "python"
    }
  },
  "cells": [
    {
      "cell_type": "markdown",
      "metadata": {
        "id": "vGw_p0wqZsYy"
      },
      "source": [
        "BitCoin Data Set of Last 3 years [2017-01 to 2021-05] "
      ]
    },
    {
      "cell_type": "code",
      "metadata": {
        "colab": {
          "base_uri": "https://localhost:8080/",
          "height": 205
        },
        "id": "YhsZhtmIUmCr",
        "outputId": "b3d911ff-aef7-46b1-b9cf-a715f60500be"
      },
      "source": [
        "# Import data set of 1 Hour BTC-USD [2017-01 to 2021-05]\n",
        "import pandas as pd\n",
        "import datetime\n",
        "import glob\n",
        "\n",
        "path = r'/content/Dataset' \n",
        "\n",
        "all_files = glob.glob(path + \"/*.csv\")\n",
        "all_files = sorted(all_files)\n",
        "\n",
        "data = pd.DataFrame()\n",
        "\n",
        "for filename in all_files:\n",
        "\n",
        "    df = pd.read_csv(filename,usecols=[1,2,3,4,5], names=['Open','High','Low','Close','Volume'])\n",
        "    data = data.append(df,ignore_index=True)\n",
        "\n",
        "data.head()\n"
      ],
      "execution_count": null,
      "outputs": [
        {
          "output_type": "execute_result",
          "data": {
            "text/html": [
              "<div>\n",
              "<style scoped>\n",
              "    .dataframe tbody tr th:only-of-type {\n",
              "        vertical-align: middle;\n",
              "    }\n",
              "\n",
              "    .dataframe tbody tr th {\n",
              "        vertical-align: top;\n",
              "    }\n",
              "\n",
              "    .dataframe thead th {\n",
              "        text-align: right;\n",
              "    }\n",
              "</style>\n",
              "<table border=\"1\" class=\"dataframe\">\n",
              "  <thead>\n",
              "    <tr style=\"text-align: right;\">\n",
              "      <th></th>\n",
              "      <th>Open</th>\n",
              "      <th>High</th>\n",
              "      <th>Low</th>\n",
              "      <th>Close</th>\n",
              "      <th>Volume</th>\n",
              "    </tr>\n",
              "  </thead>\n",
              "  <tbody>\n",
              "    <tr>\n",
              "      <th>0</th>\n",
              "      <td>4178.00</td>\n",
              "      <td>4197.97</td>\n",
              "      <td>4148.99</td>\n",
              "      <td>4170.00</td>\n",
              "      <td>41.008989</td>\n",
              "    </tr>\n",
              "    <tr>\n",
              "      <th>1</th>\n",
              "      <td>4150.01</td>\n",
              "      <td>4200.01</td>\n",
              "      <td>4140.01</td>\n",
              "      <td>4200.00</td>\n",
              "      <td>35.261802</td>\n",
              "    </tr>\n",
              "    <tr>\n",
              "      <th>2</th>\n",
              "      <td>4200.00</td>\n",
              "      <td>4300.00</td>\n",
              "      <td>4185.00</td>\n",
              "      <td>4242.01</td>\n",
              "      <td>41.160565</td>\n",
              "    </tr>\n",
              "    <tr>\n",
              "      <th>3</th>\n",
              "      <td>4242.01</td>\n",
              "      <td>4270.00</td>\n",
              "      <td>4200.01</td>\n",
              "      <td>4230.00</td>\n",
              "      <td>26.294684</td>\n",
              "    </tr>\n",
              "    <tr>\n",
              "      <th>4</th>\n",
              "      <td>4239.99</td>\n",
              "      <td>4258.83</td>\n",
              "      <td>4200.02</td>\n",
              "      <td>4235.01</td>\n",
              "      <td>20.139359</td>\n",
              "    </tr>\n",
              "  </tbody>\n",
              "</table>\n",
              "</div>"
            ],
            "text/plain": [
              "      Open     High      Low    Close     Volume\n",
              "0  4178.00  4197.97  4148.99  4170.00  41.008989\n",
              "1  4150.01  4200.01  4140.01  4200.00  35.261802\n",
              "2  4200.00  4300.00  4185.00  4242.01  41.160565\n",
              "3  4242.01  4270.00  4200.01  4230.00  26.294684\n",
              "4  4239.99  4258.83  4200.02  4235.01  20.139359"
            ]
          },
          "metadata": {
            "tags": []
          },
          "execution_count": 3
        }
      ]
    },
    {
      "cell_type": "markdown",
      "metadata": {
        "id": "p1DdjBp0aF_X"
      },
      "source": [
        "Technical Indicators SMA, EMA, MACD, RSI, Momentum, Stochastic D% , Accumulation/distribution oscillator (A/D)"
      ]
    },
    {
      "cell_type": "code",
      "metadata": {
        "id": "xZpnd55saCUI",
        "colab": {
          "base_uri": "https://localhost:8080/",
          "height": 242
        },
        "outputId": "801d661f-9c6e-4c1c-c7f4-e323aaee8787"
      },
      "source": [
        "import numpy as np\n",
        "\n",
        "window_length=2\n",
        "\n",
        "# Get just the  close\n",
        "close = data['Close']\n",
        "# Get the difference in price from previous step\n",
        "delta = close.diff()\n",
        "# Get rid of the first row, which is NaN since it did not have a previous \n",
        "# row to calculate the differences\n",
        "delta = delta[1:] \n",
        "\n",
        "\n",
        "# Make the positive gains (up) and negative gains (down) Series RSI_EWMA\n",
        "up, down = delta.clip(lower=0), delta.clip(upper=0)\n",
        "roll_up1 = up.ewm(span=window_length).mean()\n",
        "roll_down1 = down.abs().ewm(span=window_length).mean()\n",
        "RS1 = roll_up1 / roll_down1\n",
        "RSI1 = 100.0 - (100.0 / (1.0 + RS1))\n",
        "\n",
        "# Calculate the RSI based on SMA, RSI_SMA\n",
        "roll_up2 = up.rolling(window_length).mean()\n",
        "roll_down2 = down.abs().rolling(window_length).mean()\n",
        "RS2 = roll_up2 / roll_down2\n",
        "RSI2 = 100.0 - (100.0 / (1.0 + RS2))\n",
        "\n",
        "n = 2\n",
        "\n",
        "def rma(x, n, y0):\n",
        "    a = (n-1) / n\n",
        "    ak = a**np.arange(len(x)-1, -1, -1)\n",
        "    return np.r_[np.full(n, np.nan), y0, np.cumsum(ak * x) / ak / n + y0 * a**np.arange(1, len(x)+1)]\n",
        "\n",
        "# Technical Indicators \n",
        "data[\"SMA_2\"] = data.Close.rolling(2).mean()\n",
        "data[\"EMA_2\"] =data.Close.ewm(span =2).mean()\n",
        "data[\"Force_Index\"] = data[\"Close\"] * data[\"Volume\"]\n",
        "data[\"MACD\"] = data.Close.ewm(span=5).mean() - data.Close.ewm(span=2).mean()\n",
        "\n",
        "data['change'] = data['Close'].diff()\n",
        "data['gain'] = data.change.mask(data.change < 0, 0.0)\n",
        "data['loss'] = -data.change.mask(data.change > 0, -0.0)\n",
        "data['avg_gain'] = rma(data.gain[n+1:].to_numpy(), n, np.nansum(data.gain.to_numpy()[:n+1])/n)\n",
        "data['avg_loss'] = rma(data.loss[n+1:].to_numpy(), n, np.nansum(data.loss.to_numpy()[:n+1])/n)\n",
        "data['rs'] = data.avg_gain / data.avg_loss\n",
        "data['rsi_2'] = 100 - (100 / (1 + data.rs))\n",
        "\n",
        "data[\"y\"] = data[\"change\"].apply(lambda x: 1 if x > 0.00 else 0)\n",
        "\n",
        "data.tail()\n"
      ],
      "execution_count": null,
      "outputs": [
        {
          "output_type": "stream",
          "text": [
            "/usr/local/lib/python3.7/dist-packages/ipykernel_launcher.py:32: RuntimeWarning: invalid value encountered in true_divide\n"
          ],
          "name": "stderr"
        },
        {
          "output_type": "execute_result",
          "data": {
            "text/html": [
              "<div>\n",
              "<style scoped>\n",
              "    .dataframe tbody tr th:only-of-type {\n",
              "        vertical-align: middle;\n",
              "    }\n",
              "\n",
              "    .dataframe tbody tr th {\n",
              "        vertical-align: top;\n",
              "    }\n",
              "\n",
              "    .dataframe thead th {\n",
              "        text-align: right;\n",
              "    }\n",
              "</style>\n",
              "<table border=\"1\" class=\"dataframe\">\n",
              "  <thead>\n",
              "    <tr style=\"text-align: right;\">\n",
              "      <th></th>\n",
              "      <th>Open</th>\n",
              "      <th>High</th>\n",
              "      <th>Low</th>\n",
              "      <th>Close</th>\n",
              "      <th>Volume</th>\n",
              "      <th>SMA_2</th>\n",
              "      <th>EMA_2</th>\n",
              "      <th>Force_Index</th>\n",
              "      <th>MACD</th>\n",
              "      <th>change</th>\n",
              "      <th>gain</th>\n",
              "      <th>loss</th>\n",
              "      <th>avg_gain</th>\n",
              "      <th>avg_loss</th>\n",
              "      <th>rs</th>\n",
              "      <th>rsi_2</th>\n",
              "      <th>y</th>\n",
              "    </tr>\n",
              "  </thead>\n",
              "  <tbody>\n",
              "    <tr>\n",
              "      <th>32088</th>\n",
              "      <td>36694.27</td>\n",
              "      <td>36871.38</td>\n",
              "      <td>36510.01</td>\n",
              "      <td>36863.67</td>\n",
              "      <td>1963.402273</td>\n",
              "      <td>36778.970</td>\n",
              "      <td>36837.510578</td>\n",
              "      <td>7.237821e+07</td>\n",
              "      <td>-7.736724</td>\n",
              "      <td>169.40</td>\n",
              "      <td>169.40</td>\n",
              "      <td>0.00</td>\n",
              "      <td>106.235889</td>\n",
              "      <td>85.361055</td>\n",
              "      <td>1.244548</td>\n",
              "      <td>55.447591</td>\n",
              "      <td>1</td>\n",
              "    </tr>\n",
              "    <tr>\n",
              "      <th>32089</th>\n",
              "      <td>36865.75</td>\n",
              "      <td>36980.76</td>\n",
              "      <td>36557.30</td>\n",
              "      <td>36675.06</td>\n",
              "      <td>1697.834605</td>\n",
              "      <td>36769.365</td>\n",
              "      <td>36729.210193</td>\n",
              "      <td>6.226819e+07</td>\n",
              "      <td>48.992377</td>\n",
              "      <td>-188.61</td>\n",
              "      <td>0.00</td>\n",
              "      <td>188.61</td>\n",
              "      <td>53.117945</td>\n",
              "      <td>136.985528</td>\n",
              "      <td>0.387763</td>\n",
              "      <td>27.941596</td>\n",
              "      <td>0</td>\n",
              "    </tr>\n",
              "    <tr>\n",
              "      <th>32090</th>\n",
              "      <td>36677.85</td>\n",
              "      <td>37087.30</td>\n",
              "      <td>36623.01</td>\n",
              "      <td>36932.55</td>\n",
              "      <td>1483.171068</td>\n",
              "      <td>36803.805</td>\n",
              "      <td>36864.770064</td>\n",
              "      <td>5.477729e+07</td>\n",
              "      <td>-35.118351</td>\n",
              "      <td>257.49</td>\n",
              "      <td>257.49</td>\n",
              "      <td>0.00</td>\n",
              "      <td>155.303972</td>\n",
              "      <td>68.492764</td>\n",
              "      <td>2.267451</td>\n",
              "      <td>69.395102</td>\n",
              "      <td>1</td>\n",
              "    </tr>\n",
              "    <tr>\n",
              "      <th>32091</th>\n",
              "      <td>36932.55</td>\n",
              "      <td>37250.00</td>\n",
              "      <td>36863.28</td>\n",
              "      <td>37012.85</td>\n",
              "      <td>1679.621965</td>\n",
              "      <td>36972.700</td>\n",
              "      <td>36963.490021</td>\n",
              "      <td>6.216760e+07</td>\n",
              "      <td>-72.772213</td>\n",
              "      <td>80.30</td>\n",
              "      <td>80.30</td>\n",
              "      <td>0.00</td>\n",
              "      <td>117.801986</td>\n",
              "      <td>34.246382</td>\n",
              "      <td>3.439837</td>\n",
              "      <td>77.476653</td>\n",
              "      <td>1</td>\n",
              "    </tr>\n",
              "    <tr>\n",
              "      <th>32092</th>\n",
              "      <td>36879.23</td>\n",
              "      <td>37499.00</td>\n",
              "      <td>36800.93</td>\n",
              "      <td>37253.81</td>\n",
              "      <td>2649.154183</td>\n",
              "      <td>37133.330</td>\n",
              "      <td>37157.036674</td>\n",
              "      <td>9.869109e+07</td>\n",
              "      <td>-145.288135</td>\n",
              "      <td>240.96</td>\n",
              "      <td>240.96</td>\n",
              "      <td>0.00</td>\n",
              "      <td>179.380993</td>\n",
              "      <td>17.123191</td>\n",
              "      <td>10.475909</td>\n",
              "      <td>91.286093</td>\n",
              "      <td>1</td>\n",
              "    </tr>\n",
              "  </tbody>\n",
              "</table>\n",
              "</div>"
            ],
            "text/plain": [
              "           Open      High       Low  ...         rs      rsi_2  y\n",
              "32088  36694.27  36871.38  36510.01  ...   1.244548  55.447591  1\n",
              "32089  36865.75  36980.76  36557.30  ...   0.387763  27.941596  0\n",
              "32090  36677.85  37087.30  36623.01  ...   2.267451  69.395102  1\n",
              "32091  36932.55  37250.00  36863.28  ...   3.439837  77.476653  1\n",
              "32092  36879.23  37499.00  36800.93  ...  10.475909  91.286093  1\n",
              "\n",
              "[5 rows x 17 columns]"
            ]
          },
          "metadata": {
            "tags": []
          },
          "execution_count": 4
        }
      ]
    },
    {
      "cell_type": "code",
      "metadata": {
        "id": "pnU2bcM0asvf"
      },
      "source": [
        "from sklearn.model_selection import train_test_split\n",
        "data = data.drop(\n",
        "   [\"Open\", \"High\", \"Low\", \"Close\", \"Volume\", \"change\",\"gain\",\"loss\",\"avg_gain\",\"avg_loss\",'rs'],\n",
        "   axis=1,\n",
        ").dropna()\n",
        "# print(df)\n",
        "X = data.drop([\"y\"], axis=1).values\n",
        "y = data[\"y\"].values\n",
        "\n",
        "X_train, X_test, y_train, y_test = train_test_split(\n",
        "   X,\n",
        "   y,\n",
        "   test_size=0.4,\n",
        "   shuffle=False,\n",
        ")\n"
      ],
      "execution_count": null,
      "outputs": []
    },
    {
      "cell_type": "code",
      "metadata": {
        "colab": {
          "base_uri": "https://localhost:8080/"
        },
        "id": "BMdko2PlS1HT",
        "outputId": "984101c3-6c8f-4ac2-82b5-ffb8b46c3e83"
      },
      "source": [
        "clf = BernoulliNB()\n",
        "clf.fit(\n",
        "   X_train,\n",
        "   y_train,\n",
        ")\n",
        "y_pred = clf.predict(X_test)\n",
        "print(accuracy_score(y_test, y_pred))"
      ],
      "execution_count": null,
      "outputs": [
        {
          "output_type": "stream",
          "text": [
            "0.6450116009280742\n"
          ],
          "name": "stdout"
        }
      ]
    },
    {
      "cell_type": "code",
      "metadata": {
        "colab": {
          "base_uri": "https://localhost:8080/",
          "height": 587
        },
        "id": "YCKEyPXwRk-a",
        "outputId": "880eebf1-7d0b-4b07-f689-c67b3618eb9f"
      },
      "source": [
        "from sklearn.metrics import accuracy_score\n",
        "from sklearn.naive_bayes import BernoulliNB\n",
        "\n",
        "clf = BernoulliNB()\n",
        "clf.fit(\n",
        "   X_train,\n",
        "   y_train,\n",
        ")\n",
        "y_pred = clf.predict(X_test)\n",
        "print(\"Accuracy of Bernouli Naive Bayes: {}%\".format(round(accuracy_score(y_test, y_pred)*100,2)))\n",
        "print(\"\\nConfusion Matrices of Bernouli Naive Bayes:\\n\")\n",
        "\n",
        "print(confusion_matrix(y_test, y_pred))\n",
        "plot_confusion_matrix(clf, X_test, y_test)\n",
        "plt.show()\n",
        "\n",
        "print(\"\\nCLassification F1/Precision/Recall of Bernouli Naive Bayesr:\\n\")\n",
        "print(classification_report(y_test, y_pred))"
      ],
      "execution_count": null,
      "outputs": [
        {
          "output_type": "stream",
          "text": [
            "Accuracy of Bernouli Naive Bayes: 64.5%\n",
            "\n",
            "Confusion Matrices of Bernouli Naive Bayes:\n",
            "\n",
            "[[143  78]\n",
            " [ 75 135]]\n"
          ],
          "name": "stdout"
        },
        {
          "output_type": "display_data",
          "data": {
            "image/png": "[encoded data removed]",
            "text/plain": [
              "<Figure size 432x288 with 2 Axes>"
            ]
          },
          "metadata": {
            "tags": [],
            "needs_background": "light"
          }
        },
        {
          "output_type": "stream",
          "text": [
            "\n",
            "CLassification F1/Precision/Recall of Bernouli Naive Bayesr:\n",
            "\n",
            "              precision    recall  f1-score   support\n",
            "\n",
            "           0       0.66      0.65      0.65       221\n",
            "           1       0.63      0.64      0.64       210\n",
            "\n",
            "    accuracy                           0.65       431\n",
            "   macro avg       0.64      0.64      0.64       431\n",
            "weighted avg       0.65      0.65      0.65       431\n",
            "\n"
          ],
          "name": "stdout"
        }
      ]
    },
    {
      "cell_type": "code",
      "metadata": {
        "colab": {
          "base_uri": "https://localhost:8080/",
          "height": 587
        },
        "id": "Aqvc2FNRGA4j",
        "outputId": "af68bd2d-6448-4f76-dbf9-d1aa238d5399"
      },
      "source": [
        "from sklearn.linear_model import LogisticRegression\n",
        "from sklearn.metrics import plot_confusion_matrix\n",
        "import matplotlib.pyplot as plt\n",
        "from sklearn.metrics import accuracy_score\n",
        "from sklearn.metrics import confusion_matrix\n",
        "from sklearn.metrics import classification_report\n",
        "\n",
        "logreg = LogisticRegression(max_iter=1000,C=1e5,dual=False)\n",
        "\n",
        "model_lr = logreg.fit(X_train, y_train)\n",
        "lr_pred = model_lr.predict(X_test)\n",
        "\n",
        "print(\"Accuracy of Logistic Regression Classifier: {}%\".format(round(accuracy_score(y_test, lr_pred)*100,2)))\n",
        "print(\"\\nConfusion Matrices of Logistic Regression Classifier:\\n\")\n",
        "print(confusion_matrix(y_test, lr_pred))\n",
        "plot_confusion_matrix(model_lr, X_test, y_test)\n",
        "plt.show()\n",
        "print(\"\\nCLassification F1/Precision/Recall of Logistic Regression Classifier:\\n\")\n",
        "print(classification_report(y_test, lr_pred))\n"
      ],
      "execution_count": null,
      "outputs": [
        {
          "output_type": "stream",
          "text": [
            "Accuracy of Logistic Regression Classifier: 50.81%\n",
            "\n",
            "Confusion Matrices of Logistic Regression Classifier:\n",
            "\n",
            "[[156  65]\n",
            " [147  63]]\n"
          ],
          "name": "stdout"
        },
        {
          "output_type": "display_data",
          "data": {
            "image/png": "[encoded data removed]",
            "text/plain": [
              "<Figure size 432x288 with 2 Axes>"
            ]
          },
          "metadata": {
            "tags": [],
            "needs_background": "light"
          }
        },
        {
          "output_type": "stream",
          "text": [
            "\n",
            "CLassification F1/Precision/Recall of Logistic Regression Classifier:\n",
            "\n",
            "              precision    recall  f1-score   support\n",
            "\n",
            "           0       0.51      0.71      0.60       221\n",
            "           1       0.49      0.30      0.37       210\n",
            "\n",
            "    accuracy                           0.51       431\n",
            "   macro avg       0.50      0.50      0.48       431\n",
            "weighted avg       0.50      0.51      0.49       431\n",
            "\n"
          ],
          "name": "stdout"
        }
      ]
    },
    {
      "cell_type": "code",
      "metadata": {
        "colab": {
          "base_uri": "https://localhost:8080/",
          "height": 587
        },
        "id": "zKUH2u_vOKEF",
        "outputId": "6e2d28ba-f696-4baa-b846-bf14fa51aab5"
      },
      "source": [
        "from sklearn.linear_model import LogisticRegression\n",
        "from sklearn.metrics import plot_confusion_matrix\n",
        "import matplotlib.pyplot as plt\n",
        "from sklearn.metrics import accuracy_score\n",
        "from sklearn.metrics import confusion_matrix\n",
        "from sklearn.metrics import classification_report\n",
        "\n",
        "clf = RandomForestClassifier()\n",
        "clf.fit(\n",
        "   X_train,\n",
        "   y_train,\n",
        ")\n",
        "y_pred = clf.predict(X_test)\n",
        "\n",
        "print(\"Accuracy of Random Forest: {}%\".format(round(accuracy_score(y_test, y_pred)*100,2)))\n",
        "print(\"\\nConfusion Matrices of Random Forest Classifier:\\n\")\n",
        "print(confusion_matrix(y_test, y_pred))\n",
        "plot_confusion_matrix(clf, X_test, y_test)\n",
        "plt.show()\n",
        "print(\"\\nCLassification F1/Precision/Recall of Random Forest Classifier:\\n\")\n",
        "print(classification_report(y_test, y_pred))"
      ],
      "execution_count": null,
      "outputs": [
        {
          "output_type": "stream",
          "text": [
            "Accuracy of Random Forest: 84.45%\n",
            "\n",
            "Confusion Matrices of Random Forest Classifier:\n",
            "\n",
            "[[183  38]\n",
            " [ 29 181]]\n"
          ],
          "name": "stdout"
        },
        {
          "output_type": "display_data",
          "data": {
            "image/png": "[encoded data removed]",
            "text/plain": [
              "<Figure size 432x288 with 2 Axes>"
            ]
          },
          "metadata": {
            "tags": [],
            "needs_background": "light"
          }
        },
        {
          "output_type": "stream",
          "text": [
            "\n",
            "CLassification F1/Precision/Recall of Random Forest Classifier:\n",
            "\n",
            "              precision    recall  f1-score   support\n",
            "\n",
            "           0       0.86      0.83      0.85       221\n",
            "           1       0.83      0.86      0.84       210\n",
            "\n",
            "    accuracy                           0.84       431\n",
            "   macro avg       0.84      0.84      0.84       431\n",
            "weighted avg       0.85      0.84      0.84       431\n",
            "\n"
          ],
          "name": "stdout"
        }
      ]
    },
    {
      "cell_type": "markdown",
      "metadata": {
        "id": "BEIXetgRKaqQ"
      },
      "source": [
        ""
      ]
    }
  ]
}